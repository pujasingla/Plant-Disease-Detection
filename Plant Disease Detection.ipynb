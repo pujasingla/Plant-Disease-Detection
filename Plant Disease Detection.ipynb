{
 "cells": [
  {
   "cell_type": "code",
   "execution_count": 1,
   "id": "3e037bb4",
   "metadata": {},
   "outputs": [],
   "source": [
    "import numpy as np\n",
    "import pandas as pd\n",
    "%matplotlib inline\n",
    "import matplotlib as mpl\n",
    "import matplotlib.pyplot as plt\n",
    "import os\n",
    "import tensorflow as tf\n",
    "from tensorflow import keras"
   ]
  },
  {
   "cell_type": "code",
   "execution_count": 2,
   "id": "dbe166f4",
   "metadata": {},
   "outputs": [],
   "source": [
    "train_dir = r'E:\\Minor Project\\PlantVillage(1)\\train'\n",
    "validation_dir= r'E:\\Minor Project\\PlantVillage(1)\\val'"
   ]
  },
  {
   "cell_type": "code",
   "execution_count": 3,
   "id": "065a45ba",
   "metadata": {},
   "outputs": [],
   "source": [
    "from tensorflow.keras.preprocessing.image import ImageDataGenerator"
   ]
  },
  {
   "cell_type": "code",
   "execution_count": 4,
   "id": "377f1b08",
   "metadata": {},
   "outputs": [
    {
     "name": "stdout",
     "output_type": "stream",
     "text": [
      "Found 30591 images belonging to 2 classes.\n",
      "Found 9759 images belonging to 2 classes.\n"
     ]
    }
   ],
   "source": [
    "train_datagen = ImageDataGenerator(rescale=1./255)\n",
    "test_datagen = ImageDataGenerator(rescale=1./255)\n",
    "\n",
    "train_generator = train_datagen.flow_from_directory (\n",
    "                train_dir,\n",
    "                target_size=(256,256),\n",
    "                batch_size=32,\n",
    "                class_mode=\"binary\")\n",
    "validation_generator = test_datagen.flow_from_directory (\n",
    "                validation_dir,\n",
    "                target_size=(256,256),\n",
    "                batch_size=32,\n",
    "                class_mode=\"binary\")"
   ]
  },
  {
   "cell_type": "code",
   "execution_count": 5,
   "id": "66215127",
   "metadata": {},
   "outputs": [],
   "source": [
    "from tensorflow.keras import layers\n",
    "from tensorflow.keras import models"
   ]
  },
  {
   "cell_type": "code",
   "execution_count": 6,
   "id": "fc861d79",
   "metadata": {},
   "outputs": [],
   "source": [
    "model = models.Sequential()\n",
    "\n",
    "model.add(layers.Conv2D(32,(3,3), activation='relu',\n",
    "         input_shape=(256,256,3)))\n",
    "model.add(layers.MaxPooling2D((2,2)))\n",
    "\n",
    "model.add(layers.Conv2D(64,(3,3), activation='relu'))\n",
    "model.add(layers.MaxPooling2D((2,2)))\n",
    "\n",
    "model.add(layers.Conv2D(128,(3,3), activation='relu'))\n",
    "model.add(layers.MaxPooling2D((2,2)))\n",
    "\n",
    "model.add(layers.Conv2D(128,(3,3), activation='relu'))\n",
    "model.add(layers.MaxPooling2D((2,2)))\n",
    "\n",
    "model.add(layers.Flatten())\n",
    "\n",
    "model.add(layers.Dense(512,activation='relu'))\n",
    "\n",
    "model.add(layers.Dense(1,activation='sigmoid'))"
   ]
  },
  {
   "cell_type": "code",
   "execution_count": 7,
   "id": "c8259259",
   "metadata": {},
   "outputs": [
    {
     "name": "stdout",
     "output_type": "stream",
     "text": [
      "Model: \"sequential\"\n",
      "_________________________________________________________________\n",
      "Layer (type)                 Output Shape              Param #   \n",
      "=================================================================\n",
      "conv2d (Conv2D)              (None, 254, 254, 32)      896       \n",
      "_________________________________________________________________\n",
      "max_pooling2d (MaxPooling2D) (None, 127, 127, 32)      0         \n",
      "_________________________________________________________________\n",
      "conv2d_1 (Conv2D)            (None, 125, 125, 64)      18496     \n",
      "_________________________________________________________________\n",
      "max_pooling2d_1 (MaxPooling2 (None, 62, 62, 64)        0         \n",
      "_________________________________________________________________\n",
      "conv2d_2 (Conv2D)            (None, 60, 60, 128)       73856     \n",
      "_________________________________________________________________\n",
      "max_pooling2d_2 (MaxPooling2 (None, 30, 30, 128)       0         \n",
      "_________________________________________________________________\n",
      "conv2d_3 (Conv2D)            (None, 28, 28, 128)       147584    \n",
      "_________________________________________________________________\n",
      "max_pooling2d_3 (MaxPooling2 (None, 14, 14, 128)       0         \n",
      "_________________________________________________________________\n",
      "flatten (Flatten)            (None, 25088)             0         \n",
      "_________________________________________________________________\n",
      "dense (Dense)                (None, 512)               12845568  \n",
      "_________________________________________________________________\n",
      "dense_1 (Dense)              (None, 1)                 513       \n",
      "=================================================================\n",
      "Total params: 13,086,913\n",
      "Trainable params: 13,086,913\n",
      "Non-trainable params: 0\n",
      "_________________________________________________________________\n"
     ]
    }
   ],
   "source": [
    "model.summary()"
   ]
  },
  {
   "cell_type": "code",
   "execution_count": 8,
   "id": "dd04fa71",
   "metadata": {},
   "outputs": [],
   "source": [
    "from tensorflow.keras import optimizers\n",
    "\n",
    "model.compile (loss = 'binary_crossentropy',\n",
    "              optimizer = optimizers.RMSprop(learning_rate=1e-4),\n",
    "              metrics=['acc'])"
   ]
  },
  {
   "cell_type": "code",
   "execution_count": 9,
   "id": "c5fddc9c",
   "metadata": {
    "scrolled": true
   },
   "outputs": [
    {
     "name": "stderr",
     "output_type": "stream",
     "text": [
      "C:\\Users\\asus\\anaconda3\\lib\\site-packages\\keras\\engine\\training.py:1972: UserWarning: `Model.fit_generator` is deprecated and will be removed in a future version. Please use `Model.fit`, which supports generators.\n",
      "  warnings.warn('`Model.fit_generator` is deprecated and '\n"
     ]
    },
    {
     "name": "stdout",
     "output_type": "stream",
     "text": [
      "Epoch 1/50\n",
      "100/100 [==============================] - 210s 2s/step - loss: 0.5433 - acc: 0.7362 - val_loss: 0.4089 - val_acc: 0.8169\n",
      "Epoch 2/50\n",
      "100/100 [==============================] - 188s 2s/step - loss: 0.4388 - acc: 0.7847 - val_loss: 0.3770 - val_acc: 0.8100\n",
      "Epoch 3/50\n",
      "100/100 [==============================] - 189s 2s/step - loss: 0.3713 - acc: 0.8200 - val_loss: 0.3233 - val_acc: 0.8606\n",
      "Epoch 4/50\n",
      "100/100 [==============================] - 193s 2s/step - loss: 0.3516 - acc: 0.8428 - val_loss: 0.2841 - val_acc: 0.8788\n",
      "Epoch 5/50\n",
      "100/100 [==============================] - 186s 2s/step - loss: 0.3086 - acc: 0.8678 - val_loss: 0.3133 - val_acc: 0.8706\n",
      "Epoch 6/50\n",
      "100/100 [==============================] - 184s 2s/step - loss: 0.2735 - acc: 0.8869 - val_loss: 0.2457 - val_acc: 0.8900\n",
      "Epoch 7/50\n",
      "100/100 [==============================] - 183s 2s/step - loss: 0.2531 - acc: 0.8919 - val_loss: 0.2686 - val_acc: 0.8756\n",
      "Epoch 8/50\n",
      "100/100 [==============================] - 174s 2s/step - loss: 0.2255 - acc: 0.9003 - val_loss: 0.2693 - val_acc: 0.8756\n",
      "Epoch 9/50\n",
      "100/100 [==============================] - 170s 2s/step - loss: 0.2254 - acc: 0.9069 - val_loss: 0.1906 - val_acc: 0.9281\n",
      "Epoch 10/50\n",
      "100/100 [==============================] - 167s 2s/step - loss: 0.2009 - acc: 0.9156 - val_loss: 0.1505 - val_acc: 0.9438\n",
      "Epoch 11/50\n",
      "100/100 [==============================] - 192s 2s/step - loss: 0.1755 - acc: 0.9303 - val_loss: 0.2436 - val_acc: 0.8869\n",
      "Epoch 12/50\n",
      "100/100 [==============================] - 191s 2s/step - loss: 0.1823 - acc: 0.9334 - val_loss: 0.1606 - val_acc: 0.9331\n",
      "Epoch 13/50\n",
      "100/100 [==============================] - 221s 2s/step - loss: 0.1540 - acc: 0.9403 - val_loss: 0.1334 - val_acc: 0.9513\n",
      "Epoch 14/50\n",
      "100/100 [==============================] - 194s 2s/step - loss: 0.1417 - acc: 0.9441 - val_loss: 0.1163 - val_acc: 0.9575\n",
      "Epoch 15/50\n",
      "100/100 [==============================] - 210s 2s/step - loss: 0.1283 - acc: 0.9509 - val_loss: 0.1262 - val_acc: 0.9494\n",
      "Epoch 16/50\n",
      "100/100 [==============================] - 235s 2s/step - loss: 0.1165 - acc: 0.9503 - val_loss: 0.0829 - val_acc: 0.9694\n",
      "Epoch 17/50\n",
      "100/100 [==============================] - 225s 2s/step - loss: 0.1174 - acc: 0.9603 - val_loss: 0.0873 - val_acc: 0.9669\n",
      "Epoch 18/50\n",
      "100/100 [==============================] - 250s 2s/step - loss: 0.1148 - acc: 0.9500 - val_loss: 0.0812 - val_acc: 0.9737\n",
      "Epoch 19/50\n",
      "100/100 [==============================] - 220s 2s/step - loss: 0.0868 - acc: 0.9650 - val_loss: 0.0948 - val_acc: 0.9644\n",
      "Epoch 20/50\n",
      "100/100 [==============================] - 214s 2s/step - loss: 0.1137 - acc: 0.9675 - val_loss: 0.2143 - val_acc: 0.9162\n",
      "Epoch 21/50\n",
      "100/100 [==============================] - 216s 2s/step - loss: 0.0960 - acc: 0.9609 - val_loss: 0.1049 - val_acc: 0.9581\n",
      "Epoch 22/50\n",
      "100/100 [==============================] - 212s 2s/step - loss: 0.0793 - acc: 0.9722 - val_loss: 0.0884 - val_acc: 0.9663\n",
      "Epoch 23/50\n",
      "100/100 [==============================] - 209s 2s/step - loss: 0.1017 - acc: 0.9656 - val_loss: 0.0793 - val_acc: 0.9719\n",
      "Epoch 24/50\n",
      "100/100 [==============================] - 216s 2s/step - loss: 0.0847 - acc: 0.9731 - val_loss: 0.0744 - val_acc: 0.9731\n",
      "Epoch 25/50\n",
      "100/100 [==============================] - 318s 3s/step - loss: 0.0804 - acc: 0.9681 - val_loss: 0.0755 - val_acc: 0.9731\n",
      "Epoch 26/50\n",
      "100/100 [==============================] - 388s 4s/step - loss: 0.0703 - acc: 0.9756 - val_loss: 0.2293 - val_acc: 0.9106\n",
      "Epoch 27/50\n",
      "100/100 [==============================] - 390s 4s/step - loss: 0.1013 - acc: 0.9741 - val_loss: 0.0748 - val_acc: 0.9737\n",
      "Epoch 28/50\n",
      "100/100 [==============================] - 384s 4s/step - loss: 0.0716 - acc: 0.9731 - val_loss: 0.0593 - val_acc: 0.9812\n",
      "Epoch 29/50\n",
      "100/100 [==============================] - 387s 4s/step - loss: 0.0598 - acc: 0.9778 - val_loss: 0.0551 - val_acc: 0.9850\n",
      "Epoch 30/50\n",
      "100/100 [==============================] - 381s 4s/step - loss: 0.0688 - acc: 0.9703 - val_loss: 0.0637 - val_acc: 0.9706\n",
      "Epoch 31/50\n",
      "100/100 [==============================] - 447s 4s/step - loss: 0.0772 - acc: 0.9722 - val_loss: 0.0732 - val_acc: 0.9731\n",
      "Epoch 32/50\n",
      "100/100 [==============================] - 481s 5s/step - loss: 0.0655 - acc: 0.9762 - val_loss: 0.0617 - val_acc: 0.9775\n",
      "Epoch 33/50\n",
      "100/100 [==============================] - 462s 5s/step - loss: 0.0712 - acc: 0.9781 - val_loss: 0.0617 - val_acc: 0.9787\n",
      "Epoch 34/50\n",
      "100/100 [==============================] - 579s 6s/step - loss: 0.0554 - acc: 0.9797 - val_loss: 0.0472 - val_acc: 0.9819\n",
      "Epoch 35/50\n",
      "100/100 [==============================] - 621s 6s/step - loss: 0.0604 - acc: 0.9803 - val_loss: 0.0660 - val_acc: 0.9787\n",
      "Epoch 36/50\n",
      "100/100 [==============================] - 751s 8s/step - loss: 0.0658 - acc: 0.9753 - val_loss: 0.0625 - val_acc: 0.9769\n",
      "Epoch 37/50\n",
      "100/100 [==============================] - 15385s 155s/step - loss: 0.0568 - acc: 0.9812 - val_loss: 0.0663 - val_acc: 0.9744\n",
      "Epoch 38/50\n",
      "100/100 [==============================] - 392s 4s/step - loss: 0.0611 - acc: 0.9850 - val_loss: 0.0573 - val_acc: 0.9812\n",
      "Epoch 39/50\n",
      "100/100 [==============================] - 439s 4s/step - loss: 0.0491 - acc: 0.9819 - val_loss: 0.0481 - val_acc: 0.9831\n",
      "Epoch 40/50\n",
      "100/100 [==============================] - 430s 4s/step - loss: 0.0567 - acc: 0.9800 - val_loss: 0.0627 - val_acc: 0.9769\n",
      "Epoch 41/50\n",
      "100/100 [==============================] - 425s 4s/step - loss: 0.0465 - acc: 0.9847 - val_loss: 0.0816 - val_acc: 0.9775\n",
      "Epoch 42/50\n",
      "100/100 [==============================] - 410s 4s/step - loss: 0.0437 - acc: 0.9841 - val_loss: 0.0515 - val_acc: 0.9812\n",
      "Epoch 43/50\n",
      "100/100 [==============================] - 409s 4s/step - loss: 0.0496 - acc: 0.9837 - val_loss: 0.0555 - val_acc: 0.9800\n",
      "Epoch 44/50\n",
      "100/100 [==============================] - 407s 4s/step - loss: 0.0413 - acc: 0.9834 - val_loss: 0.0784 - val_acc: 0.9781\n",
      "Epoch 45/50\n",
      "100/100 [==============================] - 446s 4s/step - loss: 0.0424 - acc: 0.9837 - val_loss: 0.1067 - val_acc: 0.9688\n",
      "Epoch 46/50\n",
      "100/100 [==============================] - 461s 5s/step - loss: 0.0497 - acc: 0.9803 - val_loss: 0.0351 - val_acc: 0.9856\n",
      "Epoch 47/50\n",
      "100/100 [==============================] - 461s 5s/step - loss: 0.0402 - acc: 0.9841 - val_loss: 0.0451 - val_acc: 0.9856\n",
      "Epoch 48/50\n",
      "100/100 [==============================] - 449s 5s/step - loss: 0.0421 - acc: 0.9881 - val_loss: 0.0987 - val_acc: 0.9719\n",
      "Epoch 49/50\n",
      "100/100 [==============================] - 415s 4s/step - loss: 0.0517 - acc: 0.9800 - val_loss: 0.0650 - val_acc: 0.9731\n",
      "Epoch 50/50\n",
      "100/100 [==============================] - 449s 4s/step - loss: 0.0373 - acc: 0.9856 - val_loss: 0.0390 - val_acc: 0.9831\n"
     ]
    }
   ],
   "source": [
    "history  = model.fit_generator(\n",
    "train_generator,\n",
    "steps_per_epoch=100,\n",
    "epochs=50,\n",
    "validation_data=validation_generator,\n",
    "validation_steps=50)"
   ]
  },
  {
   "cell_type": "code",
   "execution_count": 10,
   "id": "a4a183b9",
   "metadata": {},
   "outputs": [],
   "source": [
    "model.save(\"leaf_disease_detection_4.h5\")"
   ]
  },
  {
   "cell_type": "code",
   "execution_count": 11,
   "id": "6c43cca4",
   "metadata": {},
   "outputs": [
    {
     "data": {
      "image/png": "[encoded data removed]",
      "text/plain": [
       "<Figure size 576x360 with 1 Axes>"
      ]
     },
     "metadata": {
      "needs_background": "light"
     },
     "output_type": "display_data"
    }
   ],
   "source": [
    "pd.DataFrame(history.history).plot(figsize=(8,5))\n",
    "plt.grid(True)\n",
    "plt.gca().set_ylim(0,1)\n",
    "plt.show()"
   ]
  },
  {
   "cell_type": "code",
   "execution_count": null,
   "id": "347cca72",
   "metadata": {},
   "outputs": [],
   "source": []
  },
  {
   "cell_type": "code",
   "execution_count": null,
   "id": "17df4248",
   "metadata": {},
   "outputs": [],
   "source": []
  },
  {
   "cell_type": "code",
   "execution_count": null,
   "id": "b4871d36",
   "metadata": {},
   "outputs": [],
   "source": []
  },
  {
   "cell_type": "code",
   "execution_count": null,
   "id": "6e573430",
   "metadata": {},
   "outputs": [],
   "source": []
  },
  {
   "cell_type": "code",
   "execution_count": null,
   "id": "6f08384c",
   "metadata": {},
   "outputs": [],
   "source": []
  },
  {
   "cell_type": "code",
   "execution_count": null,
   "id": "85e1c5fc",
   "metadata": {},
   "outputs": [],
   "source": []
  },
  {
   "cell_type": "code",
   "execution_count": null,
   "id": "8677710c",
   "metadata": {},
   "outputs": [],
   "source": []
  }
 ],
 "metadata": {
  "kernelspec": {
   "display_name": "Python 3",
   "language": "python",
   "name": "python3"
  },
  "language_info": {
   "codemirror_mode": {
    "name": "ipython",
    "version": 3
   },
   "file_extension": ".py",
   "mimetype": "text/x-python",
   "name": "python",
   "nbconvert_exporter": "python",
   "pygments_lexer": "ipython3",
   "version": "3.8.8"
  }
 },
 "nbformat": 4,
 "nbformat_minor": 5
}
